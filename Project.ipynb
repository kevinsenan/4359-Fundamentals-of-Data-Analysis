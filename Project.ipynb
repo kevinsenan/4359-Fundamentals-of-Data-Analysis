{
 "cells": [
  {
   "cell_type": "markdown",
   "metadata": {},
   "source": [
    "# Fundamentals of Data Analysis Project\n",
    "\n",
    "**Kevin Donovan**\n",
    "\n",
    "*****"
   ]
  },
  {
   "cell_type": "code",
   "execution_count": null,
   "metadata": {},
   "outputs": [],
   "source": []
  },
  {
   "cell_type": "code",
   "execution_count": null,
   "metadata": {},
   "outputs": [],
   "source": [
    "import pandas as pd\n",
    "import matplotlib.pyplot as plt"
   ]
  },
  {
   "cell_type": "code",
   "execution_count": null,
   "metadata": {},
   "outputs": [],
   "source": []
  },
  {
   "cell_type": "markdown",
   "metadata": {},
   "source": [
    "assigning the name of the data set file iris.data to the variable filename\n",
    "read in the data from the iris.data file as a csv file as that is how the data is presented. Assign it to a datafile named df. \n",
    "Header is set to None to ensure the first line of data isn't ignored as a header."
   ]
  },
  {
   "cell_type": "code",
   "execution_count": null,
   "metadata": {},
   "outputs": [],
   "source": [
    "Iris_Dataset = 'iris.data'\n",
    "\n",
    "df = pd.read_csv(Iris_Dataset, header=None)\n",
    "#As the dataset had no column headers, I have to insert them into the dataset. \n",
    "# I am using 0 to 3 for the numerical columns to make it easier for me later in the program.\n",
    "df.set_axis([0, 1, 2, 3, \"Iris\"], axis=1,inplace=True)\n",
    "# saving the list of correct column names in a list called headers. \n",
    "headers = [\"sepal length\", \"sepal width\", \"petal length\", \"petal width\"]\n",
    "#plot the histograms of each data set and save them as files\n",
    "plt.hist(df[0])\n",
    "plt.title('sepal length')\n",
    "plt.savefig(\"Histogram sepal length\")\n",
    "plt.show()\n",
    "plt.hist(df[1])\n",
    "plt.title('sepal width')\n",
    "plt.savefig(\"Histogram sepal width\")\n",
    "plt.show()\n",
    "plt.hist(df[2])\n",
    "plt.title('petal length')\n",
    "plt.savefig(\"Histogram petal length\")\n",
    "plt.show()\n",
    "plt.hist(df[3])\n",
    "plt.title('petal width')\n",
    "plt.savefig(\"Histogram petal width\")\n",
    "plt.show()"
   ]
  },
  {
   "cell_type": "markdown",
   "metadata": {},
   "source": [
    "***\n",
    "\n",
    "## End"
   ]
  }
 ],
 "metadata": {
  "kernelspec": {
   "display_name": "base",
   "language": "python",
   "name": "python3"
  },
  "language_info": {
   "codemirror_mode": {
    "name": "ipython",
    "version": 3
   },
   "file_extension": ".py",
   "mimetype": "text/x-python",
   "name": "python",
   "nbconvert_exporter": "python",
   "pygments_lexer": "ipython3",
   "version": "3.9.13"
  }
 },
 "nbformat": 4,
 "nbformat_minor": 2
}
