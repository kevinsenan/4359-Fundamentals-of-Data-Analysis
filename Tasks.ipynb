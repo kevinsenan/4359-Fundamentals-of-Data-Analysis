{
 "cells": [
  {
   "cell_type": "markdown",
   "metadata": {},
   "source": [
    "# Fundamentals of Data Analysis Tasks\n",
    "\n",
    "**Kevin Donovan**\n",
    "\n",
    "****"
   ]
  },
  {
   "cell_type": "markdown",
   "metadata": {},
   "source": [
    "## Task 1\n",
    "\n",
    "> The Collatz conjecture is a famous unsolved problem in mathematics. The problem is to prove that if you start with any positive integer x and repeatedly apply the function $f(x)$ below, you always get stuck in the repeating sequence 1, 4, 2, 1, 4, 2, ..."
   ]
  },
  {
   "cell_type": "markdown",
   "metadata": {},
   "source": [
    "The first part is to create the function f(x). We use an if statement to test if a number can be divided evenly by 2. If the number can be divided by 2, the answer is returned otherwise the number is multiplied by 3 with 1 added."
   ]
  },
  {
   "cell_type": "code",
   "execution_count": null,
   "metadata": {},
   "outputs": [],
   "source": [
    "def f(x):\n",
    "    # If x is even divide it by two. Using the modulo command % to give the remainder of the division\n",
    "    if x % 2 == 0:\n",
    "        return x // 2\n",
    "    else:\n",
    "        return (3 * x) + 1"
   ]
  },
  {
   "cell_type": "markdown",
   "metadata": {},
   "source": [
    "Next we create a function colatz(x) which takes an integer, passes that integr to the F(x) function to establish whther it is odd or even. Depending on the outcome, it returns a result which is again tested for odd or even. When the number gets to 1, the original number that was entered by the user is decrmented by 1 and the process starts again."
   ]
  },
  {
   "cell_type": "code",
   "execution_count": null,
   "metadata": {},
   "outputs": [],
   "source": [
    "def collatz(x):\n",
    "    print(f'Testing the Collatz conjecture using the initial value {x}') \n",
    "    count = 0\n",
    "    value = x\n",
    "    for i in range(1, x, 1):\n",
    "        print(\"i = \", i)\n",
    "        count += 1\n",
    "        x = value\n",
    "        while x != 1:\n",
    "            print(x, end = ', ')\n",
    "            x = f(x)\n",
    "        print(\"x is: \", x)\n",
    "        value = value - 1\n",
    "        print(\"value is; \", value)\n",
    "    print(\"count : \", count)\n",
    "    #print(x) "
   ]
  },
  {
   "cell_type": "code",
   "execution_count": null,
   "metadata": {},
   "outputs": [],
   "source": [
    "collatz(50)"
   ]
  },
  {
   "cell_type": "code",
   "execution_count": null,
   "metadata": {},
   "outputs": [],
   "source": []
  },
  {
   "cell_type": "markdown",
   "metadata": {},
   "source": [
    "****\n",
    "\n",
    "# End of Task 1"
   ]
  },
  {
   "cell_type": "markdown",
   "metadata": {},
   "source": [
    "# Task 2\n",
    "\n",
    "**Penguins data analysis**\n",
    "\n",
    "****"
   ]
  },
  {
   "cell_type": "markdown",
   "metadata": {},
   "source": [
    "The penguns data set contains 345 sets of data relating to three species of penguin. The Data was collected by Dr. Kristen Gorman (https://www.uaf.edu/cfos/people/faculty/detail/kristen-gorman.php) and the Palmer Station, Antarctica LTER (https://pallter.marine.rutgers.edu/), a member of the Long Term Ecological Research Network (https://lternet.edu/). "
   ]
  },
  {
   "cell_type": "markdown",
   "metadata": {},
   "source": [
    "I start by copying the penguins spreadsheet into a dataframe. I have displayed this to show what it contains. As can be seen, there are 7 columns of data comprising of floating point numbers and strings. This mixture of datatypes is the main reason why we use Pandas Dataframes to manipulate the data as opposed to using arrays in Numpy. The dataframe can use more than one datatype."
   ]
  },
  {
   "cell_type": "code",
   "execution_count": null,
   "metadata": {},
   "outputs": [],
   "source": [
    "import pandas as pd\n",
    "Penguins_Dataset = 'penguins.csv'\n",
    "\n",
    "df = pd.read_csv(Penguins_Dataset)\n",
    "df"
   ]
  },
  {
   "cell_type": "markdown",
   "metadata": {},
   "source": [
    "As can be seen in the data from the dataframe, there are a number of NaN cells, this means \"Not a Number\". In the data it is seen that there are at least two rows of missing data which could skew our results. As shown, the data shows 345 rows of data with 7 columns made up of text and floating point numbers. As I just mentioned, some of these rows contain no information other than the species and the island the penguin is from."
   ]
  },
  {
   "cell_type": "code",
   "execution_count": null,
   "metadata": {},
   "outputs": [],
   "source": [
    "print(df.describe())\n"
   ]
  },
  {
   "cell_type": "markdown",
   "metadata": {},
   "source": [
    "Calling the describe function allows me to quickly see how the data is distributed within the dataframe. The counts across each of the columns show discrepancies in the number of filled data fields. It should show 345 for each column, but, as can be seen, only 342 counts of data entered are showing. It is only the first two columns that have the full dataset in them."
   ]
  },
  {
   "cell_type": "code",
   "execution_count": null,
   "metadata": {},
   "outputs": [],
   "source": [
    "\n"
   ]
  },
  {
   "cell_type": "markdown",
   "metadata": {},
   "source": [
    "****\n",
    "\n",
    "# End of task 2"
   ]
  },
  {
   "cell_type": "markdown",
   "metadata": {},
   "source": [
    "# Task 3\n",
    "\n",
    "**data analysis**\n",
    "\n",
    "****"
   ]
  },
  {
   "cell_type": "code",
   "execution_count": null,
   "metadata": {},
   "outputs": [],
   "source": []
  },
  {
   "cell_type": "markdown",
   "metadata": {},
   "source": [
    "****\n",
    "\n",
    "# End of task 3"
   ]
  },
  {
   "cell_type": "markdown",
   "metadata": {},
   "source": [
    "# Task 4\n",
    "\n",
    "**Entropy of flipping two coins**\n",
    " \n",
    " We are asked: \"Suppose you are flipping two coins, each with a probability p of giving heads. Plot the entropy of the total number of heads versus p\"\n",
    "\n",
    " given event's probability of happening shows mathematically (numerically) how likely it is to occur. If an event has a probability of 1, it will always occur, whereas it will never occur if its probability is 0\n",
    "https://goodcalculators.com/coin-flip-probability-calculator/\n",
    "\n",
    "\n",
    "****"
   ]
  },
  {
   "cell_type": "markdown",
   "metadata": {},
   "source": [
    "Flipping two coins gives results \n",
    "\n",
    "1 \t2 \t\tHow many heads?\n",
    "H \tH \t\t2\n",
    "H \tT \t\t1\n",
    "T \tH \t\t1\n",
    "T \tT \t\t0\n",
    "\n",
    "We had three possible outcomes. We got two heads once, one head twice, and zero heads once. So, our most likely outcome is half heads, but not by a huge amount.\n"
   ]
  },
  {
   "cell_type": "code",
   "execution_count": null,
   "metadata": {},
   "outputs": [],
   "source": [
    "import numpy as np\n",
    "import matplotlib.pyplot as plt\n"
   ]
  },
  {
   "cell_type": "markdown",
   "metadata": {},
   "source": [
    "The function below is created to compute Shannon's equation of entropy"
   ]
  },
  {
   "cell_type": "code",
   "execution_count": null,
   "metadata": {},
   "outputs": [],
   "source": [
    "def H(p):\n",
    "  return -(1 - p) * np.log2(1.0 - p) - p * np.log2(p)"
   ]
  },
  {
   "cell_type": "markdown",
   "metadata": {},
   "source": [
    "If we were to use H as 0.5, this would be the entropy of using one coin and getting a Heads"
   ]
  },
  {
   "cell_type": "code",
   "execution_count": null,
   "metadata": {},
   "outputs": [],
   "source": [
    "H(0.5)\n"
   ]
  },
  {
   "cell_type": "markdown",
   "metadata": {},
   "source": [
    "Next we pass the function 0.25, which is the entropy of using two coins"
   ]
  },
  {
   "cell_type": "code",
   "execution_count": null,
   "metadata": {},
   "outputs": [],
   "source": [
    "# Entropy of 0.25.\n",
    "H(0.25)"
   ]
  },
  {
   "cell_type": "code",
   "execution_count": null,
   "metadata": {},
   "outputs": [],
   "source": []
  },
  {
   "cell_type": "code",
   "execution_count": null,
   "metadata": {},
   "outputs": [],
   "source": [
    "# Create an empty plot.\n",
    "fig, ax = plt.subplots(figsize=(12,6))\n",
    "\n",
    "# p is a probability.\n",
    "p = np.linspace(0.00000001, 0.99999999, 100)\n",
    "\n",
    "# Plot H(p).\n",
    "ax.plot(p, H(p));"
   ]
  },
  {
   "cell_type": "markdown",
   "metadata": {},
   "source": [
    "# References\n",
    "https://en.wikipedia.org/wiki/Fair_coin\n",
    "https://math.stackexchange.com/questions/1424818/flip-2-coins-how-to-show-that-each-point-in-sample-space-has-equal-probability\n",
    "https://www.geeksforgeeks.org/what-is-a-fair-and-unfair-coin/?ref=ml_lbp\n",
    "https://math.stackexchange.com/questions/2321905/how-to-find-probability-of-two-coins\n",
    "https://docs.scipy.org/doc/scipy/reference/generated/scipy.stats.entropy.html\n"
   ]
  },
  {
   "cell_type": "markdown",
   "metadata": {},
   "source": [
    "****\n",
    "\n",
    "# End of task 4"
   ]
  },
  {
   "cell_type": "code",
   "execution_count": 4,
   "metadata": {},
   "outputs": [
    {
     "data": {
      "text/plain": [
       "1.0"
      ]
     },
     "execution_count": 4,
     "metadata": {},
     "output_type": "execute_result"
    }
   ],
   "source": [
    "import numpy as np\n",
    "from scipy.stats import entropy\n",
    "base = 2  # work in units of bits\n",
    "pk = np.array([1/2, 1/2])  # fair coin\n",
    "H = entropy(pk, base=base)\n",
    "H\n"
   ]
  },
  {
   "cell_type": "code",
   "execution_count": 3,
   "metadata": {},
   "outputs": [
    {
     "data": {
      "text/plain": [
       "True"
      ]
     },
     "execution_count": 3,
     "metadata": {},
     "output_type": "execute_result"
    }
   ],
   "source": [
    "H == -np.sum(pk * np.log(pk)) / np.log(base)"
   ]
  },
  {
   "cell_type": "markdown",
   "metadata": {},
   "source": [
    "# Task 5"
   ]
  },
  {
   "cell_type": "code",
   "execution_count": 5,
   "metadata": {},
   "outputs": [],
   "source": [
    "import random\n",
    "\n"
   ]
  },
  {
   "cell_type": "code",
   "execution_count": 6,
   "metadata": {},
   "outputs": [
    {
     "data": {
      "text/plain": [
       "15"
      ]
     },
     "execution_count": 6,
     "metadata": {},
     "output_type": "execute_result"
    }
   ],
   "source": [
    "# Based on the above, we can generate a random integer between\n",
    "# 10 and 20, inclusive.\n",
    "random.randint(10, 20)"
   ]
  },
  {
   "cell_type": "code",
   "execution_count": 7,
   "metadata": {},
   "outputs": [
    {
     "data": {
      "text/plain": [
       "[1, 1, 5, 9, 2, 6, 2, 2, 3, 8]"
      ]
     },
     "execution_count": 7,
     "metadata": {},
     "output_type": "execute_result"
    }
   ],
   "source": [
    "# Generate a list of 100 random integers between 1 and 10.\n",
    "L = [random.randint(1, 10) for i in range(100)]\n",
    "\n",
    "# Show the first ten items of L.\n",
    "L[:10]"
   ]
  },
  {
   "cell_type": "code",
   "execution_count": null,
   "metadata": {},
   "outputs": [],
   "source": [
    "# Random real (floating-point) number. [0.0, 1.0)\n",
    "random.random()"
   ]
  },
  {
   "cell_type": "code",
   "execution_count": null,
   "metadata": {},
   "outputs": [],
   "source": [
    "# Pick a random floating point number between 0.0 and 100.0. [0.0, 100.0]\n",
    "random.uniform(0.0, 100.0)"
   ]
  },
  {
   "cell_type": "code",
   "execution_count": null,
   "metadata": {},
   "outputs": [],
   "source": [
    "# Random Number Generator (RNG) for generating random numbers.\n",
    "rng = np.random.default_rng()"
   ]
  },
  {
   "cell_type": "code",
   "execution_count": null,
   "metadata": {},
   "outputs": [],
   "source": [
    "# Generate random floating point numbers in the interval 0.0 (included) to 1.0 (excluded).\n",
    "rng.random(10)"
   ]
  },
  {
   "cell_type": "code",
   "execution_count": 11,
   "metadata": {},
   "outputs": [
    {
     "ename": "TypeError",
     "evalue": "'numpy.random._generator.Generator' object is not subscriptable",
     "output_type": "error",
     "traceback": [
      "\u001b[1;31m---------------------------------------------------------------------------\u001b[0m",
      "\u001b[1;31mTypeError\u001b[0m                                 Traceback (most recent call last)",
      "\u001b[1;32m~\\AppData\\Local\\Temp\\ipykernel_5124\\1162636635.py\u001b[0m in \u001b[0;36m<module>\u001b[1;34m\u001b[0m\n\u001b[0;32m      8\u001b[0m \u001b[1;31m# Generate numbers on a standard Normal distribution.\u001b[0m\u001b[1;33m\u001b[0m\u001b[1;33m\u001b[0m\u001b[0m\n\u001b[0;32m      9\u001b[0m \u001b[0mrng\u001b[0m\u001b[1;33m.\u001b[0m\u001b[0mstandard_normal\u001b[0m\u001b[1;33m(\u001b[0m\u001b[1;36m100\u001b[0m\u001b[1;33m)\u001b[0m\u001b[1;33m\u001b[0m\u001b[1;33m\u001b[0m\u001b[0m\n\u001b[1;32m---> 10\u001b[1;33m \u001b[0mrng\u001b[0m\u001b[1;33m[\u001b[0m\u001b[1;33m:\u001b[0m\u001b[1;36m10\u001b[0m\u001b[1;33m]\u001b[0m\u001b[1;33m\u001b[0m\u001b[1;33m\u001b[0m\u001b[0m\n\u001b[0m",
      "\u001b[1;31mTypeError\u001b[0m: 'numpy.random._generator.Generator' object is not subscriptable"
     ]
    }
   ],
   "source": [
    "# Generate a list of 100 random integers between 1 and 10.\n",
    "#L = [random.randint(1, 10) for i in range(100)]\n",
    "\n",
    "# Show the first ten items of L.\n",
    "#L[:10]\n",
    "# Random Number Generator (RNG) for generating random numbers.\n",
    "rng = np.random.default_rng()\n",
    "# Generate numbers on a standard Normal distribution.\n",
    "rng.standard_normal(100)\n",
    "rng[:10]"
   ]
  },
  {
   "cell_type": "code",
   "execution_count": null,
   "metadata": {},
   "outputs": [],
   "source": [
    "# Generated 15 integers between 10 (included) and 20 (excluded).\n",
    "rng.integers(low=10, high=20, size=15) "
   ]
  },
  {
   "cell_type": "code",
   "execution_count": 15,
   "metadata": {},
   "outputs": [
    {
     "data": {
      "text/plain": [
       "array([[141.61294117, 136.14904225, 140.24344624, 139.71060653,\n",
       "        140.82455467, 137.7720217 , 141.02523216, 140.24004003,\n",
       "        143.04923054, 137.20672832, 134.26800867, 140.76243229,\n",
       "        141.13982846, 142.63036363, 133.33635886, 139.99100383,\n",
       "        140.15059813, 141.99843254, 134.91259318, 137.62796985,\n",
       "        139.69343468, 140.98070204, 138.29284893, 133.17265736,\n",
       "        139.21540824, 139.29093476, 142.11126224, 139.78642236,\n",
       "        140.16341392, 136.94135124, 136.84610422, 139.68568404,\n",
       "        139.31879627, 141.28825918, 137.98721645, 140.91472675,\n",
       "        141.10370349, 142.02625184, 137.48181988, 141.71398691,\n",
       "        135.11878793, 138.82560009, 139.90511907, 140.9405895 ,\n",
       "        139.93881787, 140.29302698, 141.75062803, 139.79608379,\n",
       "        136.52279297, 142.5634175 ]])"
      ]
     },
     "execution_count": 15,
     "metadata": {},
     "output_type": "execute_result"
    }
   ],
   "source": [
    "np.random.normal(140, 2.5, size=(1, 50))"
   ]
  },
  {
   "cell_type": "code",
   "execution_count": null,
   "metadata": {},
   "outputs": [],
   "source": [
    "# The lowest integer allowed.\n",
    "low = 1\n",
    "\n",
    "# The highest integer allowed.\n",
    "high = 10\n",
    "\n",
    "# The number of integers to generate.\n",
    "size = 100000"
   ]
  },
  {
   "cell_type": "code",
   "execution_count": null,
   "metadata": {},
   "outputs": [],
   "source": [
    "# Generate a list of random integers.\n",
    "rand_ints = rng.integers(low=low, high=high + 1, size=size)\n",
    "\n",
    "# Show.\n",
    "# rand_ints"
   ]
  },
  {
   "cell_type": "code",
   "execution_count": null,
   "metadata": {},
   "outputs": [],
   "source": [
    "# Generate random floating point numbers in the interval 0.0 (included) to 1.0 (excluded).\n",
    "rand_floats = rng.random(size)\n",
    "\n",
    "# Show rand_floats.\n",
    "# rand_floats"
   ]
  },
  {
   "cell_type": "code",
   "execution_count": null,
   "metadata": {},
   "outputs": [],
   "source": []
  },
  {
   "cell_type": "markdown",
   "metadata": {},
   "source": [
    "****\n",
    "\n",
    "# End of task 5"
   ]
  }
 ],
 "metadata": {
  "kernelspec": {
   "display_name": "base",
   "language": "python",
   "name": "python3"
  },
  "language_info": {
   "codemirror_mode": {
    "name": "ipython",
    "version": 3
   },
   "file_extension": ".py",
   "mimetype": "text/x-python",
   "name": "python",
   "nbconvert_exporter": "python",
   "pygments_lexer": "ipython3",
   "version": "3.9.13"
  }
 },
 "nbformat": 4,
 "nbformat_minor": 2
}
