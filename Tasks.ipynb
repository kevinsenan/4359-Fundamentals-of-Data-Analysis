{
 "cells": [
  {
   "cell_type": "markdown",
   "metadata": {},
   "source": [
    "# Fundamentals of Data Analysis Tasks\n",
    "\n",
    "**Kevin Donovan**\n",
    "\n",
    "****"
   ]
  },
  {
   "cell_type": "markdown",
   "metadata": {},
   "source": [
    "## Task 1\n",
    "\n",
    "> The Collatz conjecture is a famous unsolved problem in mathematics. The problem is to prove that if you start with any positive integer x and repeatedly apply the function $f(x)$ below, you always get stuck in the repeating sequence 1, 4, 2, 1, 4, 2, ..."
   ]
  },
  {
   "cell_type": "code",
   "execution_count": 1,
   "metadata": {},
   "outputs": [],
   "source": [
    "def f(x):\n",
    "    # If x is even divide it by two. Using the modulo command % to give the remainder of the division\n",
    "    if x % 2 == 0:\n",
    "        return x // 2\n",
    "    else:\n",
    "        return (3 * x) + 1"
   ]
  },
  {
   "cell_type": "code",
   "execution_count": 2,
   "metadata": {},
   "outputs": [],
   "source": [
    "def collatz(x):\n",
    "    print(f'Testing the Collatz conjecture using the initial value {x}') \n",
    "    count = 0\n",
    "    value = x\n",
    "    for i in range(1, x, 1):\n",
    "        print(\"i = \", i)\n",
    "        count += 1\n",
    "        x = value\n",
    "        while x != 1:\n",
    "            print(x, end = ', ')\n",
    "            x = f(x)\n",
    "        print(\"x is: \", x)\n",
    "        value = value - 1\n",
    "        print(\"value is; \", value)\n",
    "    print(\"count : \", count)\n",
    "    #print(x) "
   ]
  },
  {
   "cell_type": "code",
   "execution_count": 3,
   "metadata": {},
   "outputs": [
    {
     "name": "stdout",
     "output_type": "stream",
     "text": [
      "Testing the Collatz conjecture using the initial value 50\n",
      "i =  1\n",
      "50, 25, 76, 38, 19, 58, 29, 88, 44, 22, 11, 34, 17, 52, 26, 13, 40, 20, 10, 5, 16, 8, 4, 2, x is:  1\n",
      "value is;  49\n",
      "i =  2\n",
      "49, 148, 74, 37, 112, 56, 28, 14, 7, 22, 11, 34, 17, 52, 26, 13, 40, 20, 10, 5, 16, 8, 4, 2, x is:  1\n",
      "value is;  48\n",
      "i =  3\n",
      "48, 24, 12, 6, 3, 10, 5, 16, 8, 4, 2, x is:  1\n",
      "value is;  47\n",
      "i =  4\n",
      "47, 142, 71, 214, 107, 322, 161, 484, 242, 121, 364, 182, 91, 274, 137, 412, 206, 103, 310, 155, 466, 233, 700, 350, 175, 526, 263, 790, 395, 1186, 593, 1780, 890, 445, 1336, 668, 334, 167, 502, 251, 754, 377, 1132, 566, 283, 850, 425, 1276, 638, 319, 958, 479, 1438, 719, 2158, 1079, 3238, 1619, 4858, 2429, 7288, 3644, 1822, 911, 2734, 1367, 4102, 2051, 6154, 3077, 9232, 4616, 2308, 1154, 577, 1732, 866, 433, 1300, 650, 325, 976, 488, 244, 122, 61, 184, 92, 46, 23, 70, 35, 106, 53, 160, 80, 40, 20, 10, 5, 16, 8, 4, 2, x is:  1\n",
      "value is;  46\n",
      "i =  5\n",
      "46, 23, 70, 35, 106, 53, 160, 80, 40, 20, 10, 5, 16, 8, 4, 2, x is:  1\n",
      "value is;  45\n",
      "i =  6\n",
      "45, 136, 68, 34, 17, 52, 26, 13, 40, 20, 10, 5, 16, 8, 4, 2, x is:  1\n",
      "value is;  44\n",
      "i =  7\n",
      "44, 22, 11, 34, 17, 52, 26, 13, 40, 20, 10, 5, 16, 8, 4, 2, x is:  1\n",
      "value is;  43\n",
      "i =  8\n",
      "43, 130, 65, 196, 98, 49, 148, 74, 37, 112, 56, 28, 14, 7, 22, 11, 34, 17, 52, 26, 13, 40, 20, 10, 5, 16, 8, 4, 2, x is:  1\n",
      "value is;  42\n",
      "i =  9\n",
      "42, 21, 64, 32, 16, 8, 4, 2, x is:  1\n",
      "value is;  41\n",
      "i =  10\n",
      "41, 124, 62, 31, 94, 47, 142, 71, 214, 107, 322, 161, 484, 242, 121, 364, 182, 91, 274, 137, 412, 206, 103, 310, 155, 466, 233, 700, 350, 175, 526, 263, 790, 395, 1186, 593, 1780, 890, 445, 1336, 668, 334, 167, 502, 251, 754, 377, 1132, 566, 283, 850, 425, 1276, 638, 319, 958, 479, 1438, 719, 2158, 1079, 3238, 1619, 4858, 2429, 7288, 3644, 1822, 911, 2734, 1367, 4102, 2051, 6154, 3077, 9232, 4616, 2308, 1154, 577, 1732, 866, 433, 1300, 650, 325, 976, 488, 244, 122, 61, 184, 92, 46, 23, 70, 35, 106, 53, 160, 80, 40, 20, 10, 5, 16, 8, 4, 2, x is:  1\n",
      "value is;  40\n",
      "i =  11\n",
      "40, 20, 10, 5, 16, 8, 4, 2, x is:  1\n",
      "value is;  39\n",
      "i =  12\n",
      "39, 118, 59, 178, 89, 268, 134, 67, 202, 101, 304, 152, 76, 38, 19, 58, 29, 88, 44, 22, 11, 34, 17, 52, 26, 13, 40, 20, 10, 5, 16, 8, 4, 2, x is:  1\n",
      "value is;  38\n",
      "i =  13\n",
      "38, 19, 58, 29, 88, 44, 22, 11, 34, 17, 52, 26, 13, 40, 20, 10, 5, 16, 8, 4, 2, x is:  1\n",
      "value is;  37\n",
      "i =  14\n",
      "37, 112, 56, 28, 14, 7, 22, 11, 34, 17, 52, 26, 13, 40, 20, 10, 5, 16, 8, 4, 2, x is:  1\n",
      "value is;  36\n",
      "i =  15\n",
      "36, 18, 9, 28, 14, 7, 22, 11, 34, 17, 52, 26, 13, 40, 20, 10, 5, 16, 8, 4, 2, x is:  1\n",
      "value is;  35\n",
      "i =  16\n",
      "35, 106, 53, 160, 80, 40, 20, 10, 5, 16, 8, 4, 2, x is:  1\n",
      "value is;  34\n",
      "i =  17\n",
      "34, 17, 52, 26, 13, 40, 20, 10, 5, 16, 8, 4, 2, x is:  1\n",
      "value is;  33\n",
      "i =  18\n",
      "33, 100, 50, 25, 76, 38, 19, 58, 29, 88, 44, 22, 11, 34, 17, 52, 26, 13, 40, 20, 10, 5, 16, 8, 4, 2, x is:  1\n",
      "value is;  32\n",
      "i =  19\n",
      "32, 16, 8, 4, 2, x is:  1\n",
      "value is;  31\n",
      "i =  20\n",
      "31, 94, 47, 142, 71, 214, 107, 322, 161, 484, 242, 121, 364, 182, 91, 274, 137, 412, 206, 103, 310, 155, 466, 233, 700, 350, 175, 526, 263, 790, 395, 1186, 593, 1780, 890, 445, 1336, 668, 334, 167, 502, 251, 754, 377, 1132, 566, 283, 850, 425, 1276, 638, 319, 958, 479, 1438, 719, 2158, 1079, 3238, 1619, 4858, 2429, 7288, 3644, 1822, 911, 2734, 1367, 4102, 2051, 6154, 3077, 9232, 4616, 2308, 1154, 577, 1732, 866, 433, 1300, 650, 325, 976, 488, 244, 122, 61, 184, 92, 46, 23, 70, 35, 106, 53, 160, 80, 40, 20, 10, 5, 16, 8, 4, 2, x is:  1\n",
      "value is;  30\n",
      "i =  21\n",
      "30, 15, 46, 23, 70, 35, 106, 53, 160, 80, 40, 20, 10, 5, 16, 8, 4, 2, x is:  1\n",
      "value is;  29\n",
      "i =  22\n",
      "29, 88, 44, 22, 11, 34, 17, 52, 26, 13, 40, 20, 10, 5, 16, 8, 4, 2, x is:  1\n",
      "value is;  28\n",
      "i =  23\n",
      "28, 14, 7, 22, 11, 34, 17, 52, 26, 13, 40, 20, 10, 5, 16, 8, 4, 2, x is:  1\n",
      "value is;  27\n",
      "i =  24\n",
      "27, 82, 41, 124, 62, 31, 94, 47, 142, 71, 214, 107, 322, 161, 484, 242, 121, 364, 182, 91, 274, 137, 412, 206, 103, 310, 155, 466, 233, 700, 350, 175, 526, 263, 790, 395, 1186, 593, 1780, 890, 445, 1336, 668, 334, 167, 502, 251, 754, 377, 1132, 566, 283, 850, 425, 1276, 638, 319, 958, 479, 1438, 719, 2158, 1079, 3238, 1619, 4858, 2429, 7288, 3644, 1822, 911, 2734, 1367, 4102, 2051, 6154, 3077, 9232, 4616, 2308, 1154, 577, 1732, 866, 433, 1300, 650, 325, 976, 488, 244, 122, 61, 184, 92, 46, 23, 70, 35, 106, 53, 160, 80, 40, 20, 10, 5, 16, 8, 4, 2, x is:  1\n",
      "value is;  26\n",
      "i =  25\n",
      "26, 13, 40, 20, 10, 5, 16, 8, 4, 2, x is:  1\n",
      "value is;  25\n",
      "i =  26\n",
      "25, 76, 38, 19, 58, 29, 88, 44, 22, 11, 34, 17, 52, 26, 13, 40, 20, 10, 5, 16, 8, 4, 2, x is:  1\n",
      "value is;  24\n",
      "i =  27\n",
      "24, 12, 6, 3, 10, 5, 16, 8, 4, 2, x is:  1\n",
      "value is;  23\n",
      "i =  28\n",
      "23, 70, 35, 106, 53, 160, 80, 40, 20, 10, 5, 16, 8, 4, 2, x is:  1\n",
      "value is;  22\n",
      "i =  29\n",
      "22, 11, 34, 17, 52, 26, 13, 40, 20, 10, 5, 16, 8, 4, 2, x is:  1\n",
      "value is;  21\n",
      "i =  30\n",
      "21, 64, 32, 16, 8, 4, 2, x is:  1\n",
      "value is;  20\n",
      "i =  31\n",
      "20, 10, 5, 16, 8, 4, 2, x is:  1\n",
      "value is;  19\n",
      "i =  32\n",
      "19, 58, 29, 88, 44, 22, 11, 34, 17, 52, 26, 13, 40, 20, 10, 5, 16, 8, 4, 2, x is:  1\n",
      "value is;  18\n",
      "i =  33\n",
      "18, 9, 28, 14, 7, 22, 11, 34, 17, 52, 26, 13, 40, 20, 10, 5, 16, 8, 4, 2, x is:  1\n",
      "value is;  17\n",
      "i =  34\n",
      "17, 52, 26, 13, 40, 20, 10, 5, 16, 8, 4, 2, x is:  1\n",
      "value is;  16\n",
      "i =  35\n",
      "16, 8, 4, 2, x is:  1\n",
      "value is;  15\n",
      "i =  36\n",
      "15, 46, 23, 70, 35, 106, 53, 160, 80, 40, 20, 10, 5, 16, 8, 4, 2, x is:  1\n",
      "value is;  14\n",
      "i =  37\n",
      "14, 7, 22, 11, 34, 17, 52, 26, 13, 40, 20, 10, 5, 16, 8, 4, 2, x is:  1\n",
      "value is;  13\n",
      "i =  38\n",
      "13, 40, 20, 10, 5, 16, 8, 4, 2, x is:  1\n",
      "value is;  12\n",
      "i =  39\n",
      "12, 6, 3, 10, 5, 16, 8, 4, 2, x is:  1\n",
      "value is;  11\n",
      "i =  40\n",
      "11, 34, 17, 52, 26, 13, 40, 20, 10, 5, 16, 8, 4, 2, x is:  1\n",
      "value is;  10\n",
      "i =  41\n",
      "10, 5, 16, 8, 4, 2, x is:  1\n",
      "value is;  9\n",
      "i =  42\n",
      "9, 28, 14, 7, 22, 11, 34, 17, 52, 26, 13, 40, 20, 10, 5, 16, 8, 4, 2, x is:  1\n",
      "value is;  8\n",
      "i =  43\n",
      "8, 4, 2, x is:  1\n",
      "value is;  7\n",
      "i =  44\n",
      "7, 22, 11, 34, 17, 52, 26, 13, 40, 20, 10, 5, 16, 8, 4, 2, x is:  1\n",
      "value is;  6\n",
      "i =  45\n",
      "6, 3, 10, 5, 16, 8, 4, 2, x is:  1\n",
      "value is;  5\n",
      "i =  46\n",
      "5, 16, 8, 4, 2, x is:  1\n",
      "value is;  4\n",
      "i =  47\n",
      "4, 2, x is:  1\n",
      "value is;  3\n",
      "i =  48\n",
      "3, 10, 5, 16, 8, 4, 2, x is:  1\n",
      "value is;  2\n",
      "i =  49\n",
      "2, x is:  1\n",
      "value is;  1\n",
      "count :  49\n"
     ]
    }
   ],
   "source": [
    "collatz(50)"
   ]
  },
  {
   "cell_type": "code",
   "execution_count": null,
   "metadata": {},
   "outputs": [],
   "source": []
  },
  {
   "cell_type": "markdown",
   "metadata": {},
   "source": [
    "****\n",
    "\n",
    "# End of Task 1"
   ]
  },
  {
   "cell_type": "markdown",
   "metadata": {},
   "source": [
    "# Task 2\n",
    "\n",
    "**Penguins data analysis**\n",
    "\n",
    "****"
   ]
  },
  {
   "cell_type": "markdown",
   "metadata": {},
   "source": [
    "The penguns data set contains 345 sets of data relating to three species of penguin. The Data was collected by Dr. Kristen Gorman (https://www.uaf.edu/cfos/people/faculty/detail/kristen-gorman.php) and the Palmer Station, Antarctica LTER (https://pallter.marine.rutgers.edu/), a member of the Long Term Ecological Research Network (https://lternet.edu/). "
   ]
  },
  {
   "cell_type": "code",
   "execution_count": null,
   "metadata": {},
   "outputs": [],
   "source": []
  },
  {
   "cell_type": "markdown",
   "metadata": {},
   "source": [
    "****\n",
    "\n",
    "# End of task 2"
   ]
  }
 ],
 "metadata": {
  "kernelspec": {
   "display_name": "base",
   "language": "python",
   "name": "python3"
  },
  "language_info": {
   "codemirror_mode": {
    "name": "ipython",
    "version": 3
   },
   "file_extension": ".py",
   "mimetype": "text/x-python",
   "name": "python",
   "nbconvert_exporter": "python",
   "pygments_lexer": "ipython3",
   "version": "3.9.13"
  }
 },
 "nbformat": 4,
 "nbformat_minor": 2
}
