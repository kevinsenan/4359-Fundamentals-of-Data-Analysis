{
 "cells": [
  {
   "cell_type": "markdown",
   "metadata": {},
   "source": [
    "# Fundamentals of Data Analysis Tasks\n",
    "\n",
    "**Kevin Donovan**\n",
    "\n",
    "****"
   ]
  },
  {
   "cell_type": "markdown",
   "metadata": {},
   "source": [
    "## Task 1\n",
    "\n",
    "> The Collatz conjecture is a famous unsolved problem in mathematics. The problem is to prove that if you start with any positive integer x and repeatedly apply the function $f(x)$ below, you always get stuck in the repeating sequence 1, 4, 2, 1, 4, 2, ..."
   ]
  },
  {
   "cell_type": "code",
   "execution_count": 1,
   "metadata": {},
   "outputs": [],
   "source": [
    "def f(x):\n",
    "    # If x is even divide it by two. Using the modulo command % to give the remainder of the division\n",
    "    if x % 2 == 0:\n",
    "        return x // 2\n",
    "    else:\n",
    "        return (3 * x) + 1"
   ]
  },
  {
   "cell_type": "code",
   "execution_count": 2,
   "metadata": {},
   "outputs": [],
   "source": [
    "def collatz(x):\n",
    "    print(f'Testing the Collatz conjecture using the initial value {x}') \n",
    "    count = 0\n",
    "    value = x\n",
    "    for i in range(1, value, 1):\n",
    "        print(\"i = \", i)\n",
    "        count += 1\n",
    "        while x != 1:\n",
    "            print(x, end = ', ')\n",
    "            x = f(x)\n",
    "        print(\"x is: \", x)\n",
    "    print(\"count : \", count)\n",
    "    #print(x) "
   ]
  },
  {
   "cell_type": "code",
   "execution_count": 3,
   "metadata": {},
   "outputs": [
    {
     "name": "stdout",
     "output_type": "stream",
     "text": [
      "Testing the Collatz conjecture using the initial value 50\n",
      "i =  1\n",
      "50, 25, 76, 38, 19, 58, 29, 88, 44, 22, 11, 34, 17, 52, 26, 13, 40, 20, 10, 5, 16, 8, 4, 2, x is:  1\n",
      "i =  2\n",
      "x is:  1\n",
      "i =  3\n",
      "x is:  1\n",
      "i =  4\n",
      "x is:  1\n",
      "i =  5\n",
      "x is:  1\n",
      "i =  6\n",
      "x is:  1\n",
      "i =  7\n",
      "x is:  1\n",
      "i =  8\n",
      "x is:  1\n",
      "i =  9\n",
      "x is:  1\n",
      "i =  10\n",
      "x is:  1\n",
      "i =  11\n",
      "x is:  1\n",
      "i =  12\n",
      "x is:  1\n",
      "i =  13\n",
      "x is:  1\n",
      "i =  14\n",
      "x is:  1\n",
      "i =  15\n",
      "x is:  1\n",
      "i =  16\n",
      "x is:  1\n",
      "i =  17\n",
      "x is:  1\n",
      "i =  18\n",
      "x is:  1\n",
      "i =  19\n",
      "x is:  1\n",
      "i =  20\n",
      "x is:  1\n",
      "i =  21\n",
      "x is:  1\n",
      "i =  22\n",
      "x is:  1\n",
      "i =  23\n",
      "x is:  1\n",
      "i =  24\n",
      "x is:  1\n",
      "i =  25\n",
      "x is:  1\n",
      "i =  26\n",
      "x is:  1\n",
      "i =  27\n",
      "x is:  1\n",
      "i =  28\n",
      "x is:  1\n",
      "i =  29\n",
      "x is:  1\n",
      "i =  30\n",
      "x is:  1\n",
      "i =  31\n",
      "x is:  1\n",
      "i =  32\n",
      "x is:  1\n",
      "i =  33\n",
      "x is:  1\n",
      "i =  34\n",
      "x is:  1\n",
      "i =  35\n",
      "x is:  1\n",
      "i =  36\n",
      "x is:  1\n",
      "i =  37\n",
      "x is:  1\n",
      "i =  38\n",
      "x is:  1\n",
      "i =  39\n",
      "x is:  1\n",
      "i =  40\n",
      "x is:  1\n",
      "i =  41\n",
      "x is:  1\n",
      "i =  42\n",
      "x is:  1\n",
      "i =  43\n",
      "x is:  1\n",
      "i =  44\n",
      "x is:  1\n",
      "i =  45\n",
      "x is:  1\n",
      "i =  46\n",
      "x is:  1\n",
      "i =  47\n",
      "x is:  1\n",
      "i =  48\n",
      "x is:  1\n",
      "i =  49\n",
      "x is:  1\n",
      "count :  49\n"
     ]
    }
   ],
   "source": [
    "collatz(50)"
   ]
  },
  {
   "cell_type": "code",
   "execution_count": null,
   "metadata": {},
   "outputs": [],
   "source": []
  },
  {
   "cell_type": "markdown",
   "metadata": {},
   "source": [
    "****\n",
    "\n",
    "# End"
   ]
  }
 ],
 "metadata": {
  "kernelspec": {
   "display_name": "base",
   "language": "python",
   "name": "python3"
  },
  "language_info": {
   "codemirror_mode": {
    "name": "ipython",
    "version": 3
   },
   "file_extension": ".py",
   "mimetype": "text/x-python",
   "name": "python",
   "nbconvert_exporter": "python",
   "pygments_lexer": "ipython3",
   "version": "3.9.13"
  }
 },
 "nbformat": 4,
 "nbformat_minor": 2
}
